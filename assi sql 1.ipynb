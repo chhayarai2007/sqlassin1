{
 "cells": [
  {
   "cell_type": "markdown",
   "id": "70cd03d8-0e5a-4529-9bcf-88130ec02468",
   "metadata": {},
   "source": [
    "Q1. What is a database? Differentiate between SQL and NoSQL databases.\n",
    "\n",
    "\n",
    "ans:- SQL databases are relational, and NoSQL databases are non-relational. SQL databases use structured query language (SQL) and have a predefined schema. NoSQL databases have dynamic schemas for unstructured data. SQL databases are vertically scalable, while NoSQL databases are horizontally scalable"
   ]
  },
  {
   "cell_type": "markdown",
   "id": "cca656d2-f0ef-4528-b0a5-681dcac49ad0",
   "metadata": {},
   "source": [
    "Q2. What is DDL? Explain why CREATE, DROP, ALTER, and TRUNCATE are used with an example.\n",
    "\n",
    "ans:- Data Definition Language(DDL) is a subset of SQL and a part of DBMS(Database Management System). \n",
    "DDL consist of Commands to commands like CREATE, ALTER, TRUNCATE and DROP.\n",
    "These commands are used to create or modify the tables in SQL\n",
    "\n",
    "CREATE :\n",
    "This command is used to create a new table in SQL. The user has to give information like table name, column names, and their datatypes.\n",
    "\n",
    "Syntax –\n",
    "\n",
    "CREATE TABLE table_name\n",
    "(\n",
    "column_1 datatype,\n",
    "column_2 datatype,\n",
    "column_3 datatype,\n",
    "....\n",
    ");\n",
    "\n",
    "ALTER :\n",
    "This command is used to add, delete or change columns in the existing table. The user needs to know the existing table name and can do add, delete or modify tasks easily.\n",
    "\n",
    "Syntax –\n",
    "Syntax to add a column to an existing table.\n",
    "\n",
    "ALTER TABLE table_name\n",
    "ADD column_name datatype:\n",
    "\n",
    "\n",
    "DROP :\n",
    "This command is used to remove an existing table along with its structure from the Database.\n",
    "\n",
    "Syntax –\n",
    "Syntax to drop an existing table.\n",
    "\n",
    "DROP TABLE table_name;"
   ]
  },
  {
   "cell_type": "markdown",
   "id": "e45f7df9-2372-4f2e-8790-0e5460cf413c",
   "metadata": {},
   "source": [
    "Q3. What is DML? Explain INSERT, UPDATE, and DELETE with an example.\n",
    "\n",
    "DML stands for Data Manipulation Language. Tables and formulas are helpful when communicating with\n",
    "data stored up to a point in a database through SQL (Structured Query Language), but a time comes when \n",
    "we actually want to execute some fairly complicated data interactions.\n",
    "We will also need the Data Manipulation Language in that situation.\n",
    "DML is a way to inform a database precisely what we want it to do by conversing in a manner that it has been \n",
    "built to comprehend from scratch. When it comes to interacting with existing data, whether adding, \n",
    "moving, or deleting data, it provides a convenient way to do so.\n",
    "\n",
    "\n",
    "INSERT Command\n",
    "This command is used to enter the information or values into a row. We can connect one or more records to a single table within a repository using this instruction. This is often used to connect an unused tag to the documents.\n",
    "\n",
    "Syntax:\n",
    "\n",
    "INSERT INTO <table_name> ('column_name1' <datatype>, 'column_name2' <datatype>)\n",
    "VALUES ('value1', 'value2'); \n",
    "Example :\n",
    "\n",
    "INSERT INTO students ('stu_id' int, 'stu_name' varchar(20), 'city' varchar(20))\n",
    "VALUES ('1', 'Nirmit', 'Gorakhpur'); \n",
    "UPDATE Command\n",
    "This command is used to alter existing table records. Within a table, it modifies data from one or more records. This command is used to alter the data which is already present in a table.\n",
    "\n",
    "Syntax:\n",
    "\n",
    "UPDATE <table_name>\n",
    "SET <column_name = value>\n",
    "WHERE condition; \n",
    "Example:\n",
    "\n",
    "UPDATE students\n",
    "SET due_fees = 20000\n",
    "WHERE stu_name = 'Mini'; \n",
    "DELETE Command\n",
    "It deletes all archives from a table. This command is used to erase some or all of the previous table’s records. If we do not specify the ‘WHERE’ condition then all the rows would be erased or deleted.\n",
    "\n",
    "Syntax:\n",
    "\n",
    "DELETE FROM <table_name>\n",
    "WHERE <condition>; \n",
    "Example:\n",
    "\n",
    "DELETE FROM students\n",
    "WHERE stu_id = '001'; "
   ]
  },
  {
   "cell_type": "markdown",
   "id": "5029050e-b480-4ffa-84b5-1b36aaee2d59",
   "metadata": {},
   "source": [
    "Q4. What is DQL? Explain SELECT with an example.\n",
    "\n",
    "ans:_ DQL stands for Data Query Language, and it's a computer language used to query information systems and databases. \n",
    "DQL is a sub-language of Structured Query Language (SQL), which is a well-known example of a DQL. \n",
    "DQL statements query data in schema objects to return a schema relation based on the query. \n"
   ]
  },
  {
   "cell_type": "markdown",
   "id": "f700d25b-eab9-471a-8e83-60d26d681611",
   "metadata": {},
   "source": [
    "Q5. Explain Primary Key and Foreign Key.\n",
    "\n",
    "ans:- A primary key is used to ensure data in the specific column is unique. \n",
    "A foreign key is a column or group of columns in a relational database table that provides a link between data in two tables."
   ]
  },
  {
   "cell_type": "markdown",
   "id": "4cd9cab4-1517-4fee-92f0-69951d6db33f",
   "metadata": {},
   "source": [
    "Q6. Write a python code to connect MySQL to python. Explain the cursor() and execute() method."
   ]
  },
  {
   "cell_type": "raw",
   "id": "d93f1af9-42e5-4c8c-a30c-b20790c82f27",
   "metadata": {},
   "source": [
    "import mysql.connector\n",
    "\n",
    "#establishing the connection\n",
    "conn = mysql.connector.connect(\n",
    "   user='root', password='password', host='127.0.0.1', database='mydb'\n",
    ")\n",
    "#Creating a cursor object using the cursor() method\n",
    "cursor = conn.cursor()"
   ]
  },
  {
   "cell_type": "markdown",
   "id": "d9c13ad0-c1f7-4084-b04d-650132dd8fcd",
   "metadata": {},
   "source": [
    "Q7. Give the order of execution of SQL clauses in an SQL query.\n",
    "\n",
    "ans:- Getting Data (FROM/JOIN)\n",
    "Row Filter (WHERE)\n",
    "Grouping (GROUP BY)\n",
    "Group Filter (HAVING)\n",
    "Return Expression (SELECT)\n",
    "Order & Paging (ORDER BY & LIMIT/OFFSET)\n"
   ]
  }
 ],
 "metadata": {
  "kernelspec": {
   "display_name": "Python 3 (ipykernel)",
   "language": "python",
   "name": "python3"
  },
  "language_info": {
   "codemirror_mode": {
    "name": "ipython",
    "version": 3
   },
   "file_extension": ".py",
   "mimetype": "text/x-python",
   "name": "python",
   "nbconvert_exporter": "python",
   "pygments_lexer": "ipython3",
   "version": "3.10.8"
  }
 },
 "nbformat": 4,
 "nbformat_minor": 5
}
